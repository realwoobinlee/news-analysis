{
 "cells": [
  {
   "cell_type": "markdown",
   "id": "62c38911",
   "metadata": {},
   "source": [
    "# Analyse der Relevanz zwischen Nachrichten und Suchtrends anhand Google-Trends"
   ]
  },
  {
   "cell_type": "markdown",
   "id": "fdb22369",
   "metadata": {},
   "source": [
    "## Stufe 1: Importierung von den zu nutzenden Bibliotheken und Speicherung der Rohdaten"
   ]
  },
  {
   "cell_type": "markdown",
   "id": "a83e00b6",
   "metadata": {},
   "source": [
    "Es werden die Bibliotheken importiert, die in den sämtlichen Analysenschritten global verwendet werden. Im Anschluss dazu werden die angesammelten Rohdaten durch die API-Anfrage (News-Scraper) aufbereitet und in den folgenden Schritten verarbeitet."
   ]
  },
  {
   "cell_type": "markdown",
   "id": "288434af",
   "metadata": {},
   "source": [
    "<p><strong>* Importierung </strong></p>"
   ]
  },
  {
   "cell_type": "code",
   "execution_count": 32,
   "id": "a1edf43a",
   "metadata": {},
   "outputs": [],
   "source": [
    "import requests # zuständig für die API-Abfrage\n",
    "import json # Um den (String-)Content der API-Antworten in JSON-Format umzuwandeln\n",
    "import csv"
   ]
  },
  {
   "cell_type": "markdown",
   "id": "d204cf85",
   "metadata": {},
   "source": [
    "<p><strong>* Abfrage zur Speicherung der Rohdaten </strong></p>"
   ]
  },
  {
   "cell_type": "code",
   "execution_count": 33,
   "id": "d6b53c44",
   "metadata": {},
   "outputs": [],
   "source": [
    "#Konstanten\n",
    "VALUE = \"value\"\n",
    "\n",
    "URL_FORMAT = \"http://h2920750.stratoserver.net:5000/data/{}/all\"\n",
    "LIST_ENTITIES = [\"news\", \"trends\"]\n",
    "\n",
    "list_data = [] # 0: news; 1: trends\n",
    "for ENTITY in LIST_ENTITIES:\n",
    "    response = requests.get(\n",
    "        URL_FORMAT.format(ENTITY)\n",
    "    )\n",
    "    \n",
    "    if(not response.ok):\n",
    "        response.raise_for_status()\n",
    "    \n",
    "    data = response.json()[VALUE]\n",
    "    \n",
    "    list_data.append(\n",
    "        data\n",
    "    )\n",
    "    \n",
    "    file = open(\"./data/raw/{}.csv\".format(ENTITY), \"w\")\n",
    "    dict_writer = csv.DictWriter(file, data[0].keys())\n",
    "    dict_writer.writeheader()\n",
    "    dict_writer.writerows(data)\n",
    "    file.close()"
   ]
  }
 ],
 "metadata": {
  "kernelspec": {
   "display_name": "Python 3",
   "language": "python",
   "name": "python3"
  },
  "language_info": {
   "codemirror_mode": {
    "name": "ipython",
    "version": 3
   },
   "file_extension": ".py",
   "mimetype": "text/x-python",
   "name": "python",
   "nbconvert_exporter": "python",
   "pygments_lexer": "ipython3",
   "version": "3.8.8"
  }
 },
 "nbformat": 4,
 "nbformat_minor": 5
}
