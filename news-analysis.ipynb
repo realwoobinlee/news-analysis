{
 "cells": [
  {
   "cell_type": "markdown",
   "id": "a116dfa0",
   "metadata": {},
   "source": [
    "# Analyse der Relevanz zwischen Nachrichten und Suchtrends anhand Google-Trends"
   ]
  },
  {
   "cell_type": "markdown",
   "id": "e198bab4",
   "metadata": {},
   "source": [
    "## Stufe 1: Importierung von den zu nutzenden Bibliotheken und Speicherung der Rohdaten"
   ]
  },
  {
   "cell_type": "markdown",
   "id": "2eb49165",
   "metadata": {},
   "source": [
    "Es werden die Bibliotheken importiert, die in den sämtlichen Analysenschritten global verwendet werden. Im Anschluss dazu werden die angesammelten Rohdaten durch die API-Anfrage (News-Scraper) aufbereitet und in den folgenden Schritten verarbeitet."
   ]
  },
  {
   "cell_type": "markdown",
   "id": "b985c6f4",
   "metadata": {},
   "source": [
    "<p><strong>* Importierung </strong></p>"
   ]
  },
  {
   "cell_type": "code",
   "execution_count": 64,
   "id": "5c4f8f62",
   "metadata": {},
   "outputs": [],
   "source": [
    "import requests # zuständig für die API-Abfrage\n",
    "import json # Um den (String-)Content der API-Antworten in JSON-Format umzuwandeln\n",
    "import csv\n",
    "import datetime"
   ]
  },
  {
   "cell_type": "markdown",
   "id": "278ed0ad",
   "metadata": {},
   "source": [
    "<p><strong>* Abfrage zur Speicherung der Rohdaten </strong></p>"
   ]
  },
  {
   "cell_type": "code",
   "execution_count": 66,
   "id": "5c5a3649",
   "metadata": {},
   "outputs": [],
   "source": [
    "#Konstanten\n",
    "VALUE = \"value\"\n",
    "\n",
    "URL_FORMAT = \"http://h2920750.stratoserver.net:5000/data/{}/all\"\n",
    "NEWS = \"news\"\n",
    "TRENDS = \"trends\"\n",
    "LIST_ENTITIES = [NEWS, TRENDS]\n",
    "\n",
    "# Treands-Daten werden täglich um 0 Uhr gecrawlt, weshalb deren Datum um einen Tag substrahiert werden soll.\n",
    "def subtrace_one_day(data):\n",
    "    DATE = \"date\"\n",
    "    DATE_FORMAT = \"%d/%m/%Y\"\n",
    "    substracted = datetime.datetime.strptime(data[DATE], DATE_FORMAT) - datetime.timedelta(days=1)\n",
    "    data[DATE] = substracted.strftime(DATE_FORMAT)\n",
    "    return data\n",
    "    \n",
    "list_data = [] # 0: news; 1: trends\n",
    "\n",
    "for ENTITY in LIST_ENTITIES:\n",
    "    response = requests.get(\n",
    "        URL_FORMAT.format(ENTITY)\n",
    "    )\n",
    "    \n",
    "    if(not response.ok):\n",
    "        response.raise_for_status()\n",
    "    \n",
    "    data = response.json()[VALUE]\n",
    "    \n",
    "    if ENTITY is TRENDS:\n",
    "        data = list(map(subtrace_one_day, data))\n",
    "    \n",
    "    list_data.append(\n",
    "        data\n",
    "    )\n",
    "    \n",
    "    file = open(\"./data/raw/{}.csv\".format(ENTITY), \"w\")\n",
    "    dict_writer = csv.DictWriter(file, data[0].keys())\n",
    "    dict_writer.writeheader()\n",
    "    dict_writer.writerows(data)\n",
    "    file.close()"
   ]
  },
  {
   "cell_type": "markdown",
   "id": "bd20c9f0",
   "metadata": {},
   "source": [
    "## Stufe 2: "
   ]
  }
 ],
 "metadata": {
  "kernelspec": {
   "display_name": "Python 3",
   "language": "python",
   "name": "python3"
  },
  "language_info": {
   "codemirror_mode": {
    "name": "ipython",
    "version": 3
   },
   "file_extension": ".py",
   "mimetype": "text/x-python",
   "name": "python",
   "nbconvert_exporter": "python",
   "pygments_lexer": "ipython3",
   "version": "3.8.8"
  }
 },
 "nbformat": 4,
 "nbformat_minor": 5
}
