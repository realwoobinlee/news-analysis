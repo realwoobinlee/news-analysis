{
 "cells": [
  {
   "cell_type": "markdown",
   "id": "a116dfa0",
   "metadata": {},
   "source": [
    "# Data Preprocessing: Analyse der Relevanz zwischen Nachrichten und Suchtrends anhand Google-Trends"
   ]
  },
  {
   "cell_type": "markdown",
   "id": "e198bab4",
   "metadata": {},
   "source": [
    "## Stufe 1: Importierung von den zu nutzenden Bibliotheken und Speicherung der Rohdaten"
   ]
  },
  {
   "cell_type": "markdown",
   "id": "2eb49165",
   "metadata": {},
   "source": [
    "Es werden die Bibliotheken importiert, die in den sämtlichen Analysenschritten global verwendet werden. Im Anschluss dazu werden die angesammelten Rohdaten durch die API-Anfrage (News-Scraper) aufbereitet und in den folgenden Schritten verarbeitet."
   ]
  },
  {
   "cell_type": "markdown",
   "id": "b985c6f4",
   "metadata": {},
   "source": [
    "<p><strong>* Importierung </strong></p>"
   ]
  },
  {
   "cell_type": "code",
   "execution_count": 1,
   "id": "5c4f8f62",
   "metadata": {},
   "outputs": [],
   "source": [
    "import requests # zuständig für die API-Abfrage\n",
    "import json # Um den (String-)Content der API-Antworten in JSON-Format umzuwandeln\n",
    "import csv\n",
    "import datetime"
   ]
  },
  {
   "cell_type": "markdown",
   "id": "278ed0ad",
   "metadata": {},
   "source": [
    "<p><strong>* Abfrage zur Speicherung der Rohdaten </strong></p>"
   ]
  },
  {
   "cell_type": "code",
   "execution_count": 2,
   "id": "5c5a3649",
   "metadata": {},
   "outputs": [
    {
     "ename": "FileNotFoundError",
     "evalue": "[Errno 2] No such file or directory: './data/1raw/news.csv'",
     "output_type": "error",
     "traceback": [
      "\u001b[0;31m---------------------------------------------------------------------------\u001b[0m",
      "\u001b[0;31mFileNotFoundError\u001b[0m                         Traceback (most recent call last)",
      "\u001b[0;32m<ipython-input-2-0c559b5b841b>\u001b[0m in \u001b[0;36m<module>\u001b[0;34m\u001b[0m\n\u001b[1;32m     34\u001b[0m     )\n\u001b[1;32m     35\u001b[0m \u001b[0;34m\u001b[0m\u001b[0m\n\u001b[0;32m---> 36\u001b[0;31m     \u001b[0mfile\u001b[0m \u001b[0;34m=\u001b[0m \u001b[0mopen\u001b[0m\u001b[0;34m(\u001b[0m\u001b[0;34m\"./data/1raw/{}.csv\"\u001b[0m\u001b[0;34m.\u001b[0m\u001b[0mformat\u001b[0m\u001b[0;34m(\u001b[0m\u001b[0mENTITY\u001b[0m\u001b[0;34m)\u001b[0m\u001b[0;34m,\u001b[0m \u001b[0;34m\"w\"\u001b[0m\u001b[0;34m)\u001b[0m\u001b[0;34m\u001b[0m\u001b[0;34m\u001b[0m\u001b[0m\n\u001b[0m\u001b[1;32m     37\u001b[0m     \u001b[0mdict_writer\u001b[0m \u001b[0;34m=\u001b[0m \u001b[0mcsv\u001b[0m\u001b[0;34m.\u001b[0m\u001b[0mDictWriter\u001b[0m\u001b[0;34m(\u001b[0m\u001b[0mfile\u001b[0m\u001b[0;34m,\u001b[0m \u001b[0mdata\u001b[0m\u001b[0;34m[\u001b[0m\u001b[0;36m0\u001b[0m\u001b[0;34m]\u001b[0m\u001b[0;34m.\u001b[0m\u001b[0mkeys\u001b[0m\u001b[0;34m(\u001b[0m\u001b[0;34m)\u001b[0m\u001b[0;34m)\u001b[0m\u001b[0;34m\u001b[0m\u001b[0;34m\u001b[0m\u001b[0m\n\u001b[1;32m     38\u001b[0m     \u001b[0mdict_writer\u001b[0m\u001b[0;34m.\u001b[0m\u001b[0mwriteheader\u001b[0m\u001b[0;34m(\u001b[0m\u001b[0;34m)\u001b[0m\u001b[0;34m\u001b[0m\u001b[0;34m\u001b[0m\u001b[0m\n",
      "\u001b[0;31mFileNotFoundError\u001b[0m: [Errno 2] No such file or directory: './data/1raw/news.csv'"
     ]
    }
   ],
   "source": [
    "#Konstanten\n",
    "VALUE = \"value\"\n",
    "\n",
    "URL_FORMAT = \"http://h2920750.stratoserver.net:5000/data/{}/all\"\n",
    "NEWS = \"news\"\n",
    "TRENDS = \"trends\"\n",
    "LIST_ENTITIES = [NEWS, TRENDS]\n",
    "\n",
    "# Treands-Daten werden täglich um 0 Uhr gecrawlt, weshalb deren Datum um einen Tag substrahiert werden soll.\n",
    "def subtrace_one_day(data):\n",
    "    DATE = \"date\"\n",
    "    DATE_FORMAT = \"%d/%m/%Y\"\n",
    "    substracted = datetime.datetime.strptime(data[DATE], DATE_FORMAT) - datetime.timedelta(days=1)\n",
    "    data[DATE] = substracted.strftime(DATE_FORMAT)\n",
    "    return data\n",
    "    \n",
    "list_data = [] # 0: news; 1: trends\n",
    "\n",
    "for ENTITY in LIST_ENTITIES:\n",
    "    response = requests.get(\n",
    "        URL_FORMAT.format(ENTITY)\n",
    "    )\n",
    "    \n",
    "    if(not response.ok):\n",
    "        response.raise_for_status()\n",
    "    \n",
    "    data = response.json()[VALUE]\n",
    "    \n",
    "    if ENTITY is TRENDS:\n",
    "        data = list(map(subtrace_one_day, data))\n",
    "    \n",
    "    list_data.append(\n",
    "        data\n",
    "    )\n",
    "    \n",
    "    file = open(\"./data/raw/{}.csv\".format(ENTITY), \"w\")\n",
    "    dict_writer = csv.DictWriter(file, data[0].keys())\n",
    "    dict_writer.writeheader()\n",
    "    dict_writer.writerows(data)\n",
    "    file.close()"
   ]
  },
  {
   "cell_type": "markdown",
   "id": "bd20c9f0",
   "metadata": {},
   "source": [
    "## Stufe 2: "
   ]
  },
  {
   "cell_type": "code",
   "execution_count": 1,
   "id": "e8230c8d",
   "metadata": {},
   "outputs": [],
   "source": [
    "import pandas as pd\n",
    "import spacy\n",
    "import re\n",
    "import os"
   ]
  },
  {
   "cell_type": "code",
   "execution_count": 2,
   "id": "37d761cc",
   "metadata": {},
   "outputs": [
    {
     "data": {
      "text/plain": [
       "name                                                     Welt\n",
       "date                                               01/06/2021\n",
       "headline    „Eine bessere Vereinbarkeit von allen Lebenssi...\n",
       "intro                                                       -\n",
       "Name: 28, dtype: object"
      ]
     },
     "execution_count": 2,
     "metadata": {},
     "output_type": "execute_result"
    }
   ],
   "source": [
    "nlp = spacy.load(\"de_core_news_sm\")\n",
    "news = pd.read_csv(\"./data/raw/news.csv\")\n",
    "trends = pd.read_csv(\"./data/raw/trends.csv\")\n",
    "news.loc[28]"
   ]
  },
  {
   "cell_type": "code",
   "execution_count": 3,
   "id": "201ef435",
   "metadata": {},
   "outputs": [],
   "source": [
    "def process_data(x, without_stop = True):\n",
    "    x = str(x) #Float64 in einem oder mehreren Datensätzen vorhanden\n",
    "    if x != \"-\":\n",
    "        # beseitigt vorhandene Sonderzeichen\n",
    "        # wie z.B. , . ! ? etc.\n",
    "        doc = nlp(re.sub('\\W+',' ', x))\n",
    "\n",
    "        processed = \"\"\n",
    "        for tk in doc:\n",
    "            # Stoppwörter werden aussortiert\n",
    "            if (without_stop and not tk.is_stop) or not without_stop :\n",
    "                # lemmatrisierte Wörter\n",
    "                processed += tk.lemma_ + \";\"\n",
    "        processed = processed.strip()\n",
    "        if len(processed) > 0 and processed[-1] == \";\":\n",
    "            processed = processed[:len(processed) - 1]\n",
    "        if len(processed) > 0 and processed[0] == \";\":\n",
    "            processed = processed[1:]\n",
    "        x = processed\n",
    "    return x"
   ]
  },
  {
   "cell_type": "code",
   "execution_count": 4,
   "id": "774b7cfd",
   "metadata": {},
   "outputs": [
    {
     "data": {
      "text/plain": [
       "'schön;Text;Testen'"
      ]
     },
     "execution_count": 4,
     "metadata": {},
     "output_type": "execute_result"
    }
   ],
   "source": [
    "text_to_test = \"Es ist ein schöner Text zum Testen\"\n",
    "process_data(text_to_test) # Text zum Testen ohne stopwords"
   ]
  },
  {
   "cell_type": "code",
   "execution_count": 5,
   "id": "91f69b02",
   "metadata": {},
   "outputs": [
    {
     "data": {
      "text/plain": [
       "'ich;sein;einen;schön;Text;zum;Testen'"
      ]
     },
     "execution_count": 5,
     "metadata": {},
     "output_type": "execute_result"
    }
   ],
   "source": [
    "process_data(text_to_test, False) # Text zum Testen mit stopwords"
   ]
  },
  {
   "cell_type": "code",
   "execution_count": 6,
   "id": "106bfd2e",
   "metadata": {
    "scrolled": true
   },
   "outputs": [
    {
     "data": {
      "text/html": [
       "<div>\n",
       "<style scoped>\n",
       "    .dataframe tbody tr th:only-of-type {\n",
       "        vertical-align: middle;\n",
       "    }\n",
       "\n",
       "    .dataframe tbody tr th {\n",
       "        vertical-align: top;\n",
       "    }\n",
       "\n",
       "    .dataframe thead th {\n",
       "        text-align: right;\n",
       "    }\n",
       "</style>\n",
       "<table border=\"1\" class=\"dataframe\">\n",
       "  <thead>\n",
       "    <tr style=\"text-align: right;\">\n",
       "      <th></th>\n",
       "      <th>name</th>\n",
       "      <th>date</th>\n",
       "      <th>headline</th>\n",
       "      <th>intro</th>\n",
       "    </tr>\n",
       "  </thead>\n",
       "  <tbody>\n",
       "    <tr>\n",
       "      <th>0</th>\n",
       "      <td>Welt</td>\n",
       "      <td>01/06/2021</td>\n",
       "      <td>Mit;sich;Mars;Landung;kommen;China;der;USA;gef...</td>\n",
       "      <td>-</td>\n",
       "    </tr>\n",
       "    <tr>\n",
       "      <th>1</th>\n",
       "      <td>Welt</td>\n",
       "      <td>01/06/2021</td>\n",
       "      <td>der;Politik;stürzen;der;Arzt;in;ein;kaum;lösba...</td>\n",
       "      <td>ab;nächst;Woche;sollen;Kind;ab;zwölf;Jahr;gege...</td>\n",
       "    </tr>\n",
       "    <tr>\n",
       "      <th>2</th>\n",
       "      <td>Welt</td>\n",
       "      <td>01/06/2021</td>\n",
       "      <td>WHO;benennen;Virusvarianten;um;um;Diskriminier...</td>\n",
       "      <td>der;Weltgesundheitsorganisation;wollen;besorgn...</td>\n",
       "    </tr>\n",
       "    <tr>\n",
       "      <th>3</th>\n",
       "      <td>Welt</td>\n",
       "      <td>01/06/2021</td>\n",
       "      <td>der;Bundesnotbremse;fällen;weg;doch;einen;letz...</td>\n",
       "      <td>Angela;Merkel;deuten;vorige;Woche;einen;möglic...</td>\n",
       "    </tr>\n",
       "    <tr>\n",
       "      <th>4</th>\n",
       "      <td>Welt</td>\n",
       "      <td>01/06/2021</td>\n",
       "      <td>Unerträgliche;Arroganz;spalten;Gesellschaft;Li...</td>\n",
       "      <td>um;insgesamt;16;Cent;wollen;Annalena;Baerbock;...</td>\n",
       "    </tr>\n",
       "  </tbody>\n",
       "</table>\n",
       "</div>"
      ],
      "text/plain": [
       "   name        date                                           headline  \\\n",
       "0  Welt  01/06/2021  Mit;sich;Mars;Landung;kommen;China;der;USA;gef...   \n",
       "1  Welt  01/06/2021  der;Politik;stürzen;der;Arzt;in;ein;kaum;lösba...   \n",
       "2  Welt  01/06/2021  WHO;benennen;Virusvarianten;um;um;Diskriminier...   \n",
       "3  Welt  01/06/2021  der;Bundesnotbremse;fällen;weg;doch;einen;letz...   \n",
       "4  Welt  01/06/2021  Unerträgliche;Arroganz;spalten;Gesellschaft;Li...   \n",
       "\n",
       "                                               intro  \n",
       "0                                                  -  \n",
       "1  ab;nächst;Woche;sollen;Kind;ab;zwölf;Jahr;gege...  \n",
       "2  der;Weltgesundheitsorganisation;wollen;besorgn...  \n",
       "3  Angela;Merkel;deuten;vorige;Woche;einen;möglic...  \n",
       "4  um;insgesamt;16;Cent;wollen;Annalena;Baerbock;...  "
      ]
     },
     "execution_count": 6,
     "metadata": {},
     "output_type": "execute_result"
    }
   ],
   "source": [
    "news_without_stopwords = news.copy()\n",
    "news_with_stopwords = news.copy()\n",
    "\n",
    "for param in [\"headline\", \"intro\"]:\n",
    "    news_without_stopwords[param] = news[param].apply(process_data)\n",
    "    news_with_stopwords[param] = news[param].apply(lambda x: process_data(x, False))\n",
    "    \n",
    "news_without_stopwords.head()\n",
    "news_with_stopwords.head()"
   ]
  },
  {
   "cell_type": "code",
   "execution_count": 8,
   "id": "54262321",
   "metadata": {},
   "outputs": [],
   "source": [
    "process_without_stopwords_path = os.path.join(os.getcwd() + \"/data/processed/withoutStopwords\", \"news.csv\")\n",
    "news_without_stopwords.to_csv(process_without_stopwords_path, encoding='utf-8')\n",
    "\n",
    "process_with_stopwords_path = os.path.join(os.getcwd() + \"/data/processed/withStopwords\", \"news.csv\")\n",
    "news_with_stopwords.to_csv(process_with_stopwords_path, encoding='utf-8')"
   ]
  },
  {
   "cell_type": "code",
   "execution_count": 9,
   "id": "a2c59cbe",
   "metadata": {},
   "outputs": [
    {
     "data": {
      "text/html": [
       "<div>\n",
       "<style scoped>\n",
       "    .dataframe tbody tr th:only-of-type {\n",
       "        vertical-align: middle;\n",
       "    }\n",
       "\n",
       "    .dataframe tbody tr th {\n",
       "        vertical-align: top;\n",
       "    }\n",
       "\n",
       "    .dataframe thead th {\n",
       "        text-align: right;\n",
       "    }\n",
       "</style>\n",
       "<table border=\"1\" class=\"dataframe\">\n",
       "  <thead>\n",
       "    <tr style=\"text-align: right;\">\n",
       "      <th></th>\n",
       "      <th>name</th>\n",
       "      <th>date</th>\n",
       "      <th>headline</th>\n",
       "      <th>intro</th>\n",
       "    </tr>\n",
       "  </thead>\n",
       "  <tbody>\n",
       "    <tr>\n",
       "      <th>0</th>\n",
       "      <td>Welt</td>\n",
       "      <td>01/06/2021</td>\n",
       "      <td>Mit;sich;Mars;Landung;kommen;China;der;USA;gef...</td>\n",
       "      <td>-</td>\n",
       "    </tr>\n",
       "    <tr>\n",
       "      <th>1</th>\n",
       "      <td>Welt</td>\n",
       "      <td>01/06/2021</td>\n",
       "      <td>der;Politik;stürzen;der;Arzt;in;ein;kaum;lösba...</td>\n",
       "      <td>ab;nächst;Woche;sollen;Kind;ab;zwölf;Jahr;gege...</td>\n",
       "    </tr>\n",
       "    <tr>\n",
       "      <th>2</th>\n",
       "      <td>Welt</td>\n",
       "      <td>01/06/2021</td>\n",
       "      <td>WHO;benennen;Virusvarianten;um;um;Diskriminier...</td>\n",
       "      <td>der;Weltgesundheitsorganisation;wollen;besorgn...</td>\n",
       "    </tr>\n",
       "    <tr>\n",
       "      <th>3</th>\n",
       "      <td>Welt</td>\n",
       "      <td>01/06/2021</td>\n",
       "      <td>der;Bundesnotbremse;fällen;weg;doch;einen;letz...</td>\n",
       "      <td>Angela;Merkel;deuten;vorige;Woche;einen;möglic...</td>\n",
       "    </tr>\n",
       "    <tr>\n",
       "      <th>4</th>\n",
       "      <td>Welt</td>\n",
       "      <td>01/06/2021</td>\n",
       "      <td>Unerträgliche;Arroganz;spalten;Gesellschaft;Li...</td>\n",
       "      <td>um;insgesamt;16;Cent;wollen;Annalena;Baerbock;...</td>\n",
       "    </tr>\n",
       "  </tbody>\n",
       "</table>\n",
       "</div>"
      ],
      "text/plain": [
       "   name        date                                           headline  \\\n",
       "0  Welt  01/06/2021  Mit;sich;Mars;Landung;kommen;China;der;USA;gef...   \n",
       "1  Welt  01/06/2021  der;Politik;stürzen;der;Arzt;in;ein;kaum;lösba...   \n",
       "2  Welt  01/06/2021  WHO;benennen;Virusvarianten;um;um;Diskriminier...   \n",
       "3  Welt  01/06/2021  der;Bundesnotbremse;fällen;weg;doch;einen;letz...   \n",
       "4  Welt  01/06/2021  Unerträgliche;Arroganz;spalten;Gesellschaft;Li...   \n",
       "\n",
       "                                               intro  \n",
       "0                                                  -  \n",
       "1  ab;nächst;Woche;sollen;Kind;ab;zwölf;Jahr;gege...  \n",
       "2  der;Weltgesundheitsorganisation;wollen;besorgn...  \n",
       "3  Angela;Merkel;deuten;vorige;Woche;einen;möglic...  \n",
       "4  um;insgesamt;16;Cent;wollen;Annalena;Baerbock;...  "
      ]
     },
     "execution_count": 9,
     "metadata": {},
     "output_type": "execute_result"
    }
   ],
   "source": [
    "news_with_stopwords.head()"
   ]
  }
 ],
 "metadata": {
  "kernelspec": {
   "display_name": "Python 3",
   "language": "python",
   "name": "python3"
  },
  "language_info": {
   "codemirror_mode": {
    "name": "ipython",
    "version": 3
   },
   "file_extension": ".py",
   "mimetype": "text/x-python",
   "name": "python",
   "nbconvert_exporter": "python",
   "pygments_lexer": "ipython3",
   "version": "3.8.8"
  }
 },
 "nbformat": 4,
 "nbformat_minor": 5
}
